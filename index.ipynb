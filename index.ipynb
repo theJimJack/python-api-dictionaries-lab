{
 "cells": [
  {
   "cell_type": "markdown",
   "metadata": {},
   "source": [
    "# API Exercises"
   ]
  },
  {
   "cell_type": "markdown",
   "metadata": {},
   "source": [
    "Here are two exercises that involve working with APIs and dictionaries.\n",
    "\n",
    "One is using the Open Brewery API found at https://www.openbrewerydb.org/, and the other is using the API for UK Police Data, found at https://data.police.uk/docs/.\n",
    "\n",
    "You can complete them in either order!\n",
    "\n",
    "Remember that you can create new cells with esc + a or b"
   ]
  },
  {
   "cell_type": "markdown",
   "metadata": {},
   "source": [
    "## Breweries"
   ]
  },
  {
   "cell_type": "markdown",
   "metadata": {},
   "source": [
    "### Q1: Load the first page of results with 50 results per page"
   ]
  },
  {
   "cell_type": "code",
   "execution_count": 5,
   "metadata": {},
   "outputs": [
    {
     "data": {
      "text/plain": [
       "[{'id': 2,\n",
       "  'name': 'Avondale Brewing Co',\n",
       "  'brewery_type': 'micro',\n",
       "  'street': '201 41st St S',\n",
       "  'city': 'Birmingham',\n",
       "  'state': 'Alabama',\n",
       "  'postal_code': '35222-1932',\n",
       "  'country': 'United States',\n",
       "  'longitude': '-86.774322',\n",
       "  'latitude': '33.524521',\n",
       "  'phone': '2057775456',\n",
       "  'website_url': 'http://www.avondalebrewing.com',\n",
       "  'updated_at': '2018-08-23T23:19:57.825Z'},\n",
       " {'id': 4,\n",
       "  'name': 'Band of Brothers Brewing Company',\n",
       "  'brewery_type': 'micro',\n",
       "  'street': '1605 23rd Ave',\n",
       "  'city': 'Tuscaloosa',\n",
       "  'state': 'Alabama',\n",
       "  'postal_code': '35401-4653',\n",
       "  'country': 'United States',\n",
       "  'longitude': '-87.5621551272424',\n",
       "  'latitude': '33.1984907123707',\n",
       "  'phone': '2052665137',\n",
       "  'website_url': 'http://www.bandofbrosbrewing.com',\n",
       "  'updated_at': '2018-08-23T23:19:59.462Z'},\n",
       " {'id': 44,\n",
       "  'name': 'Trim Tab Brewing',\n",
       "  'brewery_type': 'micro',\n",
       "  'street': '2721 5th Ave S',\n",
       "  'city': 'Birmingham',\n",
       "  'state': 'Alabama',\n",
       "  'postal_code': '35233-3401',\n",
       "  'country': 'United States',\n",
       "  'longitude': '-86.7914000624146',\n",
       "  'latitude': '33.5128492349817',\n",
       "  'phone': '2057030536',\n",
       "  'website_url': 'http://www.trimtabbrewing.com',\n",
       "  'updated_at': '2018-08-23T23:20:31.423Z'},\n",
       " {'id': 46,\n",
       "  'name': 'Yellowhammer Brewery',\n",
       "  'brewery_type': 'micro',\n",
       "  'street': '2600 Clinton Ave W',\n",
       "  'city': 'Huntsville',\n",
       "  'state': 'Alabama',\n",
       "  'postal_code': '35805-3046',\n",
       "  'country': 'United States',\n",
       "  'longitude': '-86.5932014',\n",
       "  'latitude': '34.7277523',\n",
       "  'phone': '2569755950',\n",
       "  'website_url': 'http://www.yellowhammerbrewery.com',\n",
       "  'updated_at': '2018-08-23T23:20:33.102Z'},\n",
       " {'id': 55,\n",
       "  'name': 'Bearpaw River Brewing Co',\n",
       "  'brewery_type': 'micro',\n",
       "  'street': '4605 E Palmer Wasilla Hwy',\n",
       "  'city': 'Wasilla',\n",
       "  'state': 'Alaska',\n",
       "  'postal_code': '99654-7679',\n",
       "  'country': 'United States',\n",
       "  'longitude': '-149.4127103',\n",
       "  'latitude': '61.5752695',\n",
       "  'phone': '',\n",
       "  'website_url': 'http://bearpawriverbrewing.com',\n",
       "  'updated_at': '2018-08-23T23:20:40.743Z'},\n",
       " {'id': 76,\n",
       "  'name': 'King Street Brewing Co',\n",
       "  'brewery_type': 'micro',\n",
       "  'street': '9050 King Street',\n",
       "  'city': 'Anchorage',\n",
       "  'state': 'Alaska',\n",
       "  'postal_code': '99515',\n",
       "  'country': 'United States',\n",
       "  'longitude': '-149.879076042937',\n",
       "  'latitude': '61.1384893547315',\n",
       "  'phone': '9073365464',\n",
       "  'website_url': 'http://www.kingstreetbrewing.com',\n",
       "  'updated_at': '2018-08-23T23:20:57.179Z'},\n",
       " {'id': 94,\n",
       "  'name': '1912 Brewing',\n",
       "  'brewery_type': 'micro',\n",
       "  'street': '2045 N Forbes Blvd Ste 105',\n",
       "  'city': 'Tucson',\n",
       "  'state': 'Arizona',\n",
       "  'postal_code': '85745-1444',\n",
       "  'country': 'United States',\n",
       "  'longitude': '-110.992750525872',\n",
       "  'latitude': '32.2467372722906',\n",
       "  'phone': '5202564851',\n",
       "  'website_url': 'http://www.1912brewing.com',\n",
       "  'updated_at': '2018-08-23T23:21:11.302Z'},\n",
       " {'id': 98,\n",
       "  'name': 'Bad Water Brewing',\n",
       "  'brewery_type': 'contract',\n",
       "  'street': '4216 N Brown Ave',\n",
       "  'city': 'Scottsdale',\n",
       "  'state': 'Arizona',\n",
       "  'postal_code': '85251-3914',\n",
       "  'country': 'United States',\n",
       "  'longitude': '-111.924474347826',\n",
       "  'latitude': '33.4972615652174',\n",
       "  'phone': '5207459175',\n",
       "  'website_url': 'http://www.badwaterbrewing.com',\n",
       "  'updated_at': '2018-08-23T23:21:15.169Z'},\n",
       " {'id': 104,\n",
       "  'name': 'BJs Restaurant & Brewery - Chandler',\n",
       "  'brewery_type': 'brewpub',\n",
       "  'street': '3155 W Chandler Blvd',\n",
       "  'city': 'Chandler',\n",
       "  'state': 'Arizona',\n",
       "  'postal_code': '85226-5175',\n",
       "  'country': 'United States',\n",
       "  'longitude': '-111.911126',\n",
       "  'latitude': '33.3053455',\n",
       "  'phone': '4809170631',\n",
       "  'website_url': 'http://www.bjsrestaurants.com',\n",
       "  'updated_at': '2018-08-23T23:21:21.165Z'},\n",
       " {'id': 107,\n",
       "  'name': 'BlackRock Brewers',\n",
       "  'brewery_type': 'micro',\n",
       "  'street': '1664 S Research Loop Ste 200',\n",
       "  'city': 'Tucson',\n",
       "  'state': 'Arizona',\n",
       "  'postal_code': '85710-6767',\n",
       "  'country': 'United States',\n",
       "  'longitude': '-110.821778571134',\n",
       "  'latitude': '32.201608314954',\n",
       "  'phone': '5202073203',\n",
       "  'website_url': 'http://www.brb.beer',\n",
       "  'updated_at': '2018-08-23T23:21:23.794Z'},\n",
       " {'id': 127,\n",
       "  'name': 'Dragoon Brewing Co',\n",
       "  'brewery_type': 'micro',\n",
       "  'street': '1859 W Grant Rd Ste 111',\n",
       "  'city': 'Tucson',\n",
       "  'state': 'Arizona',\n",
       "  'postal_code': '85745-1214',\n",
       "  'country': 'United States',\n",
       "  'longitude': '-111.005452051979',\n",
       "  'latitude': '32.2504946147872',\n",
       "  'phone': '5203293606',\n",
       "  'website_url': 'http://www.dragoonbrewing.com',\n",
       "  'updated_at': '2018-08-23T23:21:40.563Z'},\n",
       " {'id': 141,\n",
       "  'name': 'Grand Canyon Brewing Company',\n",
       "  'brewery_type': 'micro',\n",
       "  'street': '233 W Route 66',\n",
       "  'city': 'Williams',\n",
       "  'state': 'Arizona',\n",
       "  'postal_code': '86046-2530',\n",
       "  'country': 'United States',\n",
       "  'longitude': '-112.1892168',\n",
       "  'latitude': '35.2500282',\n",
       "  'phone': '8005132072',\n",
       "  'website_url': 'http://www.grandcanyonbrewingco.com',\n",
       "  'updated_at': '2018-08-23T23:21:53.397Z'},\n",
       " {'id': 163,\n",
       "  'name': 'Mudshark Brewing Co',\n",
       "  'brewery_type': 'micro',\n",
       "  'street': '210 Swanson Ave',\n",
       "  'city': 'Lake Havasu City',\n",
       "  'state': 'Arizona',\n",
       "  'postal_code': '86403-0966',\n",
       "  'country': 'United States',\n",
       "  'longitude': '-114.342433477881',\n",
       "  'latitude': '34.4689736300844',\n",
       "  'phone': '9284532981',\n",
       "  'website_url': 'http://www.mudsharkbrewingco.com',\n",
       "  'updated_at': '2018-08-23T23:22:12.542Z'},\n",
       " {'id': 182,\n",
       "  'name': 'Richter Aleworks',\n",
       "  'brewery_type': 'micro',\n",
       "  'street': '8279 W Lake Pleasant Pkwy Ste 110',\n",
       "  'city': 'Peoria',\n",
       "  'state': 'Arizona',\n",
       "  'postal_code': '85382-7434',\n",
       "  'country': 'United States',\n",
       "  'longitude': '-112.238054093359',\n",
       "  'latitude': '33.6687744976834',\n",
       "  'phone': '6029086553',\n",
       "  'website_url': 'http://www.richteraleworks.com',\n",
       "  'updated_at': '2018-08-23T23:22:29.385Z'},\n",
       " {'id': 187,\n",
       "  'name': 'SanTan Brewing Co',\n",
       "  'brewery_type': 'regional',\n",
       "  'street': '8 S San Marcos Pl',\n",
       "  'city': 'Chandler',\n",
       "  'state': 'Arizona',\n",
       "  'postal_code': '85225-7862',\n",
       "  'country': 'United States',\n",
       "  'longitude': '-111.8423459',\n",
       "  'latitude': '33.3032436',\n",
       "  'phone': '4809178700',\n",
       "  'website_url': 'http://www.santanbrewing.com',\n",
       "  'updated_at': '2018-08-23T23:22:33.482Z'},\n",
       " {'id': 198,\n",
       "  'name': 'State 48 Brewery',\n",
       "  'brewery_type': 'brewpub',\n",
       "  'street': '13823 W Bell Rd',\n",
       "  'city': 'Surprise',\n",
       "  'state': 'Arizona',\n",
       "  'postal_code': '85374-3873',\n",
       "  'country': 'United States',\n",
       "  'longitude': '-112.357813820157',\n",
       "  'latitude': '33.63822125',\n",
       "  'phone': '6235841095',\n",
       "  'website_url': '',\n",
       "  'updated_at': '2018-08-23T23:22:41.468Z'},\n",
       " {'id': 219,\n",
       "  'name': 'Wren House Brewing Company',\n",
       "  'brewery_type': 'micro',\n",
       "  'street': '2125 N 24th St',\n",
       "  'city': 'Phoenix',\n",
       "  'state': 'Arizona',\n",
       "  'postal_code': '85008-2713',\n",
       "  'country': 'United States',\n",
       "  'longitude': '-112.0301125',\n",
       "  'latitude': '33.516633',\n",
       "  'phone': '6022449184',\n",
       "  'website_url': 'http://www.wrenhousebrewing.com',\n",
       "  'updated_at': '2018-08-23T23:22:59.255Z'},\n",
       " {'id': 225,\n",
       "  'name': 'Brick Oven Pizza Co / Brick & Forge Brewing',\n",
       "  'brewery_type': 'brewpub',\n",
       "  'street': '2410 Linwood Dr',\n",
       "  'city': 'Paragould',\n",
       "  'state': 'Arkansas',\n",
       "  'postal_code': '72450-6122',\n",
       "  'country': 'United States',\n",
       "  'longitude': '-90.5204797204622',\n",
       "  'latitude': '36.0316358142169',\n",
       "  'phone': '8702364200',\n",
       "  'website_url': 'http://www.brickovenpizzacompany.com',\n",
       "  'updated_at': '2018-08-23T23:23:05.438Z'},\n",
       " {'id': 235,\n",
       "  'name': 'Diamond Bear Brewing Co',\n",
       "  'brewery_type': 'micro',\n",
       "  'street': '600 N Broadway St',\n",
       "  'city': 'North Little Rock',\n",
       "  'state': 'Arkansas',\n",
       "  'postal_code': '72114-5381',\n",
       "  'country': 'United States',\n",
       "  'longitude': '-92.2726892120821',\n",
       "  'latitude': '34.7594277548278',\n",
       "  'phone': '5017082739',\n",
       "  'website_url': 'http://www.diamondbear.com',\n",
       "  'updated_at': '2018-08-23T23:23:14.931Z'},\n",
       " {'id': 247,\n",
       "  'name': 'Lost Forty Brewing',\n",
       "  'brewery_type': 'micro',\n",
       "  'street': '501 Byrd St',\n",
       "  'city': 'Little Rock',\n",
       "  'state': 'Arkansas',\n",
       "  'postal_code': '72202',\n",
       "  'country': 'United States',\n",
       "  'longitude': '-92.260019',\n",
       "  'latitude': '34.742845',\n",
       "  'phone': '5013197275',\n",
       "  'website_url': 'http://www.lost40brewing.com/',\n",
       "  'updated_at': '2018-08-23T23:23:24.018Z'},\n",
       " {'id': 253,\n",
       "  'name': \"Rapp's Barren Brewing Company\",\n",
       "  'brewery_type': 'micro',\n",
       "  'street': '1343 E 9th St',\n",
       "  'city': 'Mountain Home',\n",
       "  'state': 'Arkansas',\n",
       "  'postal_code': '72653-5050',\n",
       "  'country': 'United States',\n",
       "  'longitude': '-92.3599724',\n",
       "  'latitude': '36.3326432',\n",
       "  'phone': '8704247288',\n",
       "  'website_url': 'http://www.rappsbarrenbrewing.com',\n",
       "  'updated_at': '2018-08-23T23:23:29.428Z'},\n",
       " {'id': 264,\n",
       "  'name': 'Whistleing Springs Brewing Company / Dark Hills Brewery',\n",
       "  'brewery_type': 'planning',\n",
       "  'street': '',\n",
       "  'city': 'Lowell',\n",
       "  'state': 'Arkansas',\n",
       "  'postal_code': '72745-9294',\n",
       "  'country': 'United States',\n",
       "  'longitude': '-94.1307587',\n",
       "  'latitude': '36.2553543',\n",
       "  'phone': '4792836365',\n",
       "  'website_url': 'http://www.darkhillsbrew.com',\n",
       "  'updated_at': '2018-08-23T23:23:40.468Z'},\n",
       " {'id': 281,\n",
       "  'name': '7 Sisters Brewing Co',\n",
       "  'brewery_type': 'brewpub',\n",
       "  'street': '181 Tank Farm Rd Ste 110',\n",
       "  'city': 'San Luis Obispo',\n",
       "  'state': 'California',\n",
       "  'postal_code': '93401-7082',\n",
       "  'country': 'United States',\n",
       "  'longitude': '-120.670637530612',\n",
       "  'latitude': '35.2467277959184',\n",
       "  'phone': '8058687133',\n",
       "  'website_url': 'http://www.7sistersbrewing.com',\n",
       "  'updated_at': '2018-08-23T23:23:55.334Z'},\n",
       " {'id': 286,\n",
       "  'name': 'Abnormal Beer Company',\n",
       "  'brewery_type': 'micro',\n",
       "  'street': '16990 Via Tazon Ste 123',\n",
       "  'city': 'San Diego',\n",
       "  'state': 'California',\n",
       "  'postal_code': '92127-1649',\n",
       "  'country': 'United States',\n",
       "  'longitude': '-117.08575',\n",
       "  'latitude': '33.02391',\n",
       "  'phone': '8586182463',\n",
       "  'website_url': 'http://abnormalbeer.co',\n",
       "  'updated_at': '2018-08-23T23:24:00.025Z'},\n",
       " {'id': 305,\n",
       "  'name': 'Altamont Beer Works',\n",
       "  'brewery_type': 'micro',\n",
       "  'street': '2402 Research Dr',\n",
       "  'city': 'Livermore',\n",
       "  'state': 'California',\n",
       "  'postal_code': '94550-3850',\n",
       "  'country': 'United States',\n",
       "  'longitude': '-121.721097428074',\n",
       "  'latitude': '37.6783911404914',\n",
       "  'phone': '9254432337',\n",
       "  'website_url': 'http://www.altamontbeerworks.com',\n",
       "  'updated_at': '2018-08-23T23:24:16.819Z'},\n",
       " {'id': 329,\n",
       "  'name': 'Auburn Alehouse',\n",
       "  'brewery_type': 'brewpub',\n",
       "  'street': '289 Washington St',\n",
       "  'city': 'Auburn',\n",
       "  'state': 'California',\n",
       "  'postal_code': '95603-5036',\n",
       "  'country': 'United States',\n",
       "  'longitude': '-121.078958250811',\n",
       "  'latitude': '38.8961210674875',\n",
       "  'phone': '5308852537',\n",
       "  'website_url': 'http://www.auburnalehouse.com',\n",
       "  'updated_at': '2018-08-23T23:24:41.928Z'},\n",
       " {'id': 333,\n",
       "  'name': 'Back Street Brewery & Tasting Room',\n",
       "  'brewery_type': 'micro',\n",
       "  'street': '1884 S Santa Cruz St',\n",
       "  'city': 'Anaheim',\n",
       "  'state': 'California',\n",
       "  'postal_code': '92805-6726',\n",
       "  'country': 'United States',\n",
       "  'longitude': '-117.896089444444',\n",
       "  'latitude': '33.7998367777778',\n",
       "  'phone': '6572364050',\n",
       "  'website_url': 'http://www.backstreetbrew.com',\n",
       "  'updated_at': '2018-08-23T23:24:45.724Z'},\n",
       " {'id': 361,\n",
       "  'name': 'Bear Republic Brewing Co Pub & Restaurant - Lakeside',\n",
       "  'brewery_type': 'brewpub',\n",
       "  'street': '5000 Roberts Lake Rd',\n",
       "  'city': 'Rohnert Park',\n",
       "  'state': 'California',\n",
       "  'postal_code': '94928',\n",
       "  'country': 'United States',\n",
       "  'longitude': '-122.7101405',\n",
       "  'latitude': '38.3649703',\n",
       "  'phone': '7075852722',\n",
       "  'website_url': 'http://bearrepublic.com',\n",
       "  'updated_at': '2018-08-23T23:25:11.314Z'},\n",
       " {'id': 376,\n",
       "  'name': 'Bird Street Brewing',\n",
       "  'brewery_type': 'micro',\n",
       "  'street': '242 Heinlen St',\n",
       "  'city': 'Lemoore',\n",
       "  'state': 'California',\n",
       "  'postal_code': '93245-2947',\n",
       "  'country': 'United States',\n",
       "  'longitude': '-119.784711',\n",
       "  'latitude': '36.3014675555556',\n",
       "  'phone': '5593094649',\n",
       "  'website_url': 'http://www.birdstreetbrewing.com',\n",
       "  'updated_at': '2018-08-23T23:25:24.815Z'},\n",
       " {'id': 385,\n",
       "  'name': 'Black Hammer Brewing',\n",
       "  'brewery_type': 'micro',\n",
       "  'street': '544 Bryant St',\n",
       "  'city': 'San Francisco',\n",
       "  'state': 'California',\n",
       "  'postal_code': '94107-1217',\n",
       "  'country': 'United States',\n",
       "  'longitude': '-122.3969947',\n",
       "  'latitude': '37.780655',\n",
       "  'phone': '4155002273',\n",
       "  'website_url': 'http://www.blackhammerbrewing.com',\n",
       "  'updated_at': '2018-08-23T23:25:33.033Z'},\n",
       " {'id': 410,\n",
       "  'name': 'Brewbakers Brewing Co',\n",
       "  'brewery_type': 'brewpub',\n",
       "  'street': '219 E Main St',\n",
       "  'city': 'Visalia',\n",
       "  'state': 'California',\n",
       "  'postal_code': '93291-6355',\n",
       "  'country': 'United States',\n",
       "  'longitude': '-119.2906961',\n",
       "  'latitude': '36.3300786',\n",
       "  'phone': '5596272739',\n",
       "  'website_url': 'http://www.brewbakersbrewingco.com',\n",
       "  'updated_at': '2018-08-23T23:25:54.818Z'},\n",
       " {'id': 425,\n",
       "  'name': 'Brewery in Planning - Los Angeles',\n",
       "  'brewery_type': 'planning',\n",
       "  'street': '',\n",
       "  'city': 'Los Angeles',\n",
       "  'state': 'California',\n",
       "  'postal_code': '90049-1620',\n",
       "  'country': 'United States',\n",
       "  'longitude': '-118.2427669',\n",
       "  'latitude': '34.0536834',\n",
       "  'phone': '3107796045',\n",
       "  'website_url': '',\n",
       "  'updated_at': '2018-08-23T23:26:04.273Z'},\n",
       " {'id': 430,\n",
       "  'name': 'Brewery in Planning - San Diego',\n",
       "  'brewery_type': 'planning',\n",
       "  'street': '',\n",
       "  'city': 'San Diego',\n",
       "  'state': 'California',\n",
       "  'postal_code': '92121-4396',\n",
       "  'country': 'United States',\n",
       "  'longitude': '-117.1627714',\n",
       "  'latitude': '32.7174209',\n",
       "  'phone': '8588882188',\n",
       "  'website_url': 'http://WWW.gravityheights.com',\n",
       "  'updated_at': '2018-08-23T23:26:06.455Z'},\n",
       " {'id': 437,\n",
       "  'name': 'Brewery Twenty Five',\n",
       "  'brewery_type': 'micro',\n",
       "  'street': '106 3rd St',\n",
       "  'city': 'Hollister',\n",
       "  'state': 'California',\n",
       "  'postal_code': '95023',\n",
       "  'country': 'United States',\n",
       "  'longitude': '-121.400836918367',\n",
       "  'latitude': '36.8535938163265',\n",
       "  'phone': '8316367640',\n",
       "  'website_url': 'http://www.brewerytwentyfive.com',\n",
       "  'updated_at': '2018-08-23T23:26:09.967Z'},\n",
       " {'id': 456,\n",
       "  'name': 'Camino Brewing Co LLC',\n",
       "  'brewery_type': 'micro',\n",
       "  'street': '718 S 1st St',\n",
       "  'city': 'San Jose',\n",
       "  'state': 'California',\n",
       "  'postal_code': '95113',\n",
       "  'country': 'United States',\n",
       "  'longitude': '-121.882347823612',\n",
       "  'latitude': '37.3253017839889',\n",
       "  'phone': '',\n",
       "  'website_url': 'http://www.caminobrewing.com',\n",
       "  'updated_at': '2018-08-23T23:26:25.248Z'},\n",
       " {'id': 479,\n",
       "  'name': 'Chula Vista Brewery',\n",
       "  'brewery_type': 'micro',\n",
       "  'street': '294 Third Ave',\n",
       "  'city': 'Chula Vista',\n",
       "  'state': 'California',\n",
       "  'postal_code': '91910-2701',\n",
       "  'country': 'United States',\n",
       "  'longitude': '-117.080369',\n",
       "  'latitude': '32.641495',\n",
       "  'phone': '6196168806',\n",
       "  'website_url': 'http://www.chulavistabrewery.com',\n",
       "  'updated_at': '2018-08-23T23:26:42.768Z'},\n",
       " {'id': 54,\n",
       "  'name': 'Barnaby Brewing Company',\n",
       "  'brewery_type': 'micro',\n",
       "  'street': '206 N Franklin St',\n",
       "  'city': 'Juneau',\n",
       "  'state': 'Alaska',\n",
       "  'postal_code': '99801-1225',\n",
       "  'country': 'United States',\n",
       "  'longitude': '-134.407726539973',\n",
       "  'latitude': '58.3017758843016',\n",
       "  'phone': '9074190916',\n",
       "  'website_url': 'http://www.barnabybrew.com',\n",
       "  'updated_at': '2018-08-23T23:20:39.859Z'},\n",
       " {'id': 489,\n",
       "  'name': \"Cloverdale Ale Company's Ruth McGowan's Brewpub\",\n",
       "  'brewery_type': 'brewpub',\n",
       "  'street': '131 E 1st St',\n",
       "  'city': 'Cloverdale',\n",
       "  'state': 'California',\n",
       "  'postal_code': '95425-3701',\n",
       "  'country': 'United States',\n",
       "  'longitude': '-123.016572852146',\n",
       "  'latitude': '38.8053232210103',\n",
       "  'phone': '7078949610',\n",
       "  'website_url': 'http://www.ruthmcgowansbrewpub.com',\n",
       "  'updated_at': '2018-08-23T23:26:51.276Z'},\n",
       " {'id': 508,\n",
       "  'name': 'Craftsman Brewing Co',\n",
       "  'brewery_type': 'micro',\n",
       "  'street': '1260 Lincoln Ave Ste 100',\n",
       "  'city': 'Pasadena',\n",
       "  'state': 'California',\n",
       "  'postal_code': '91103-2465',\n",
       "  'country': 'United States',\n",
       "  'longitude': '-118.1595567',\n",
       "  'latitude': '34.1674435',\n",
       "  'phone': '6262962537',\n",
       "  'website_url': 'http://www.craftsmanbrewing.com',\n",
       "  'updated_at': '2018-08-23T23:27:07.240Z'},\n",
       " {'id': 525,\n",
       "  'name': \"Devil's Potion Brewing Company LLC\",\n",
       "  'brewery_type': 'planning',\n",
       "  'street': '',\n",
       "  'city': 'Escondido',\n",
       "  'state': 'California',\n",
       "  'postal_code': '92026-3187',\n",
       "  'country': 'United States',\n",
       "  'longitude': '-117.0814849',\n",
       "  'latitude': '33.1216751',\n",
       "  'phone': '7605329091',\n",
       "  'website_url': 'http://www.devilspotion.com',\n",
       "  'updated_at': '2018-08-23T23:27:21.742Z'},\n",
       " {'id': 543,\n",
       "  'name': 'Dry River Brewing',\n",
       "  'brewery_type': 'micro',\n",
       "  'street': '671 S Anderson St',\n",
       "  'city': 'Los Angeles',\n",
       "  'state': 'California',\n",
       "  'postal_code': '90023-1110',\n",
       "  'country': 'United States',\n",
       "  'longitude': '-118.223301521739',\n",
       "  'latitude': '34.0363873913043',\n",
       "  'phone': '2133755235',\n",
       "  'website_url': 'http://www.dryriverbrewing.com',\n",
       "  'updated_at': '2018-08-23T23:27:38.017Z'},\n",
       " {'id': 562,\n",
       "  'name': 'Eight Bridges Brewing',\n",
       "  'brewery_type': 'micro',\n",
       "  'street': '332 Earhart Way',\n",
       "  'city': 'Livermore',\n",
       "  'state': 'California',\n",
       "  'postal_code': '94551-9309',\n",
       "  'country': 'United States',\n",
       "  'longitude': '-121.814589292069',\n",
       "  'latitude': '37.6989500360251',\n",
       "  'phone': '9259619160',\n",
       "  'website_url': 'http://www.eightbridgesbrewing.com',\n",
       "  'updated_at': '2018-08-23T23:27:54.121Z'},\n",
       " {'id': 573,\n",
       "  'name': 'Eppig Brewing',\n",
       "  'brewery_type': 'micro',\n",
       "  'street': '3052 El Cajon Blvd Ste 103',\n",
       "  'city': 'San Diego',\n",
       "  'state': 'California',\n",
       "  'postal_code': '92104-1399',\n",
       "  'country': 'United States',\n",
       "  'longitude': '-117.128732',\n",
       "  'latitude': '32.755723',\n",
       "  'phone': '6195011840',\n",
       "  'website_url': 'http://www.eppigbrewing.com',\n",
       "  'updated_at': '2018-08-23T23:28:03.844Z'},\n",
       " {'id': 574,\n",
       "  'name': 'Escape Craft Brewery',\n",
       "  'brewery_type': 'micro',\n",
       "  'street': '721 Nevada St Ste 401',\n",
       "  'city': 'Redlands',\n",
       "  'state': 'California',\n",
       "  'postal_code': '92373-8053',\n",
       "  'country': 'United States',\n",
       "  'longitude': '-117.217577166632',\n",
       "  'latitude': '34.0603401026307',\n",
       "  'phone': '9097133727',\n",
       "  'website_url': 'http://www.escapecraftbrewery.com',\n",
       "  'updated_at': '2018-08-23T23:28:04.869Z'},\n",
       " {'id': 592,\n",
       "  'name': 'Fieldwork Brewing Co',\n",
       "  'brewery_type': 'regional',\n",
       "  'street': '1160 6th St',\n",
       "  'city': 'Berkeley',\n",
       "  'state': 'California',\n",
       "  'postal_code': '94710-1247',\n",
       "  'country': 'United States',\n",
       "  'longitude': '-122.302214696327',\n",
       "  'latitude': '37.88157297059',\n",
       "  'phone': '5108981203',\n",
       "  'website_url': 'http://www.fieldworkbrewing.com',\n",
       "  'updated_at': '2018-08-23T23:28:19.100Z'},\n",
       " {'id': 612,\n",
       "  'name': 'Fort Point Beer Company',\n",
       "  'brewery_type': 'regional',\n",
       "  'street': '644 Mason St',\n",
       "  'city': 'San Francisco',\n",
       "  'state': 'California',\n",
       "  'postal_code': '94129-1600',\n",
       "  'country': 'United States',\n",
       "  'longitude': '-122.410227755102',\n",
       "  'latitude': '37.789461244898',\n",
       "  'phone': '4159064021',\n",
       "  'website_url': 'http://www.fortpointbeer.com',\n",
       "  'updated_at': '2018-08-23T23:28:36.026Z'},\n",
       " {'id': 615,\n",
       "  'name': 'Fountainhead Brewing Co',\n",
       "  'brewery_type': 'micro',\n",
       "  'street': '4621 24th St',\n",
       "  'city': 'Sacramento',\n",
       "  'state': 'California',\n",
       "  'postal_code': '95822-1412',\n",
       "  'country': 'United States',\n",
       "  'longitude': '-121.483117319123',\n",
       "  'latitude': '38.5332279038371',\n",
       "  'phone': '9162284610',\n",
       "  'website_url': 'http://www.fountainheadbrewingco.com',\n",
       "  'updated_at': '2018-08-23T23:28:38.770Z'},\n",
       " {'id': 623,\n",
       "  'name': 'Geartooth AleWerks',\n",
       "  'brewery_type': 'micro',\n",
       "  'street': '1635 S 7th St',\n",
       "  'city': 'San Jose',\n",
       "  'state': 'California',\n",
       "  'postal_code': '95112-5932',\n",
       "  'country': 'United States',\n",
       "  'longitude': '-121.866477333785',\n",
       "  'latitude': '37.315251291037',\n",
       "  'phone': '4084832679',\n",
       "  'website_url': 'http://www.geartoothalewerks.com',\n",
       "  'updated_at': '2018-08-23T23:28:45.233Z'},\n",
       " {'id': 633,\n",
       "  'name': 'Golden State Brewery',\n",
       "  'brewery_type': 'micro',\n",
       "  'street': '1252 Memorex Dr',\n",
       "  'city': 'Santa Clara',\n",
       "  'state': 'California',\n",
       "  'postal_code': '95050-2812',\n",
       "  'country': 'United States',\n",
       "  'longitude': '-121.950316757586',\n",
       "  'latitude': '37.3625383916082',\n",
       "  'phone': '4087272337',\n",
       "  'website_url': 'http://www.goldenstate.beer',\n",
       "  'updated_at': '2018-08-23T23:28:53.181Z'},\n",
       " {'id': 654,\n",
       "  'name': 'Hangar 24 Craft Brewery',\n",
       "  'brewery_type': 'regional',\n",
       "  'street': '1710 Sessums Dr',\n",
       "  'city': 'Redlands',\n",
       "  'state': 'California',\n",
       "  'postal_code': '92374-1909',\n",
       "  'country': 'United States',\n",
       "  'longitude': '-117.1419134',\n",
       "  'latitude': '34.0831712',\n",
       "  'phone': '9093891400',\n",
       "  'website_url': 'http://www.hangar24brewery.com',\n",
       "  'updated_at': '2018-08-23T23:29:10.400Z'}]"
      ]
     },
     "execution_count": 5,
     "metadata": {},
     "output_type": "execute_result"
    }
   ],
   "source": [
    "import requests \n",
    "first_50 = requests.get('https://api.openbrewerydb.org/breweries?page=1&per_page=50')\n",
    "first_50.json()\n",
    "# url = 'https://api.openbrewerydb.org/breweries?page=1&per_page=50'"
   ]
  },
  {
   "cell_type": "markdown",
   "metadata": {},
   "source": [
    "### Q2: This is only the first 50 results.  Get the next 50 and put them together."
   ]
  },
  {
   "cell_type": "code",
   "execution_count": 83,
   "metadata": {},
   "outputs": [
    {
     "data": {
      "text/plain": [
       "100"
      ]
     },
     "execution_count": 83,
     "metadata": {},
     "output_type": "execute_result"
    }
   ],
   "source": [
    "second_50 = requests.get('https://api.openbrewerydb.org/breweries?page=2&per_page=50')\n",
    "top_100 = first_50.json()+second_50.json()\n",
    "top_100_test_lol = [first_50.json(),second_50.json()]\n",
    "top_100_test_flat = [val for sublist in top_100_test_lol for val in sublist]\n",
    "len(top_100_test_lol)\n",
    "len(top_100_test_flat)\n",
    "\n",
    "\n",
    "# is equivalent to:\n",
    "\n",
    "# flattened = []\n",
    "# for sublist in list_of_lists:\n",
    "#     for val in sublist:\n",
    "#         flattened.append(val)\n"
   ]
  },
  {
   "cell_type": "markdown",
   "metadata": {},
   "source": [
    "### Q3: How many of these 100 breweries in are in Alaska?"
   ]
  },
  {
   "cell_type": "code",
   "execution_count": 38,
   "metadata": {},
   "outputs": [
    {
     "data": {
      "text/plain": [
       "[{'state': 'California', 'count': 69},\n",
       " {'state': 'Arizona', 'count': 12},\n",
       " {'state': 'Arkansas', 'count': 5},\n",
       " {'state': 'Colorado', 'count': 5},\n",
       " {'state': 'Alabama', 'count': 4},\n",
       " {'state': 'Alaska', 'count': 3},\n",
       " {'state': None, 'count': 2}]"
      ]
     },
     "execution_count": 38,
     "metadata": {},
     "output_type": "execute_result"
    }
   ],
   "source": [
    "full_list_of_states = list(map(lambda country: country['state'],top_100))\n",
    "setlist_of_states_from_top_100 = list(set(full_list_of_states))\n",
    "setlist_of_states_from_top_100\n",
    "def breweries_in_state(unique_list_of_states, full_list):\n",
    "    CF=[]\n",
    "    for state in unique_list_of_states:\n",
    "        CF_dict = {}\n",
    "        CF_dict['state'] = state\n",
    "        CF_dict['count'] = full_list.count(state)\n",
    "        CF.append(CF_dict)\n",
    "    #return CF_dict\n",
    "    return sorted(CF, key=lambda k:k['count'],reverse=True)\n",
    "breweries_in_state(setlist_of_states_from_top_100, full_list_of_states)"
   ]
  },
  {
   "cell_type": "markdown",
   "metadata": {},
   "source": [
    "### Q4: Of these 100 breweries, what are the different unique brewery types?"
   ]
  },
  {
   "cell_type": "code",
   "execution_count": 27,
   "metadata": {},
   "outputs": [
    {
     "data": {
      "text/plain": [
       "['brewpub', 'planning', 'proprietor', 'contract', 'regional', 'micro']"
      ]
     },
     "execution_count": 27,
     "metadata": {},
     "output_type": "execute_result"
    }
   ],
   "source": [
    "full_list_of_brew_types = list(map(lambda typ: typ['brewery_type'],top_100))\n",
    "setlist_of_brew_types_from_top_100 = list(set(full_list_of_brew_types))\n",
    "setlist_of_brew_types_from_top_100"
   ]
  },
  {
   "cell_type": "markdown",
   "metadata": {},
   "source": [
    "### Q5: What is the cloest brewery to \"Devil's Potion Brewing Company LLC\" ?\n",
    "* Hint 1: Use Euclidian distance w/ longitude and latitude (assume longitude and latitude are a Carteisan coordinate system)\n",
    "* Hint 2: You'll have to ignore the entries with \"none\" for latitude or longitude"
   ]
  },
  {
   "cell_type": "code",
   "execution_count": 59,
   "metadata": {},
   "outputs": [
    {
     "data": {
      "text/plain": [
       "[33.524521, 33.1984907123707]"
      ]
     },
     "execution_count": 59,
     "metadata": {},
     "output_type": "execute_result"
    }
   ],
   "source": [
    "test = list(map(lambda x: float(x['latitude']),top_100[0:2]))\n",
    "test"
   ]
  },
  {
   "cell_type": "code",
   "execution_count": 61,
   "metadata": {},
   "outputs": [
    {
     "data": {
      "text/plain": [
       "{'id': 525,\n",
       " 'name': \"Devil's Potion Brewing Company LLC\",\n",
       " 'brewery_type': 'planning',\n",
       " 'street': '',\n",
       " 'city': 'Escondido',\n",
       " 'state': 'California',\n",
       " 'postal_code': '92026-3187',\n",
       " 'country': 'United States',\n",
       " 'longitude': -117.0814849,\n",
       " 'latitude': 33.1216751,\n",
       " 'phone': '7605329091',\n",
       " 'website_url': 'http://www.devilspotion.com',\n",
       " 'updated_at': '2018-08-23T23:27:21.742Z'}"
      ]
     },
     "execution_count": 61,
     "metadata": {},
     "output_type": "execute_result"
    }
   ],
   "source": [
    "def remove_invalid_distance(brewery_list):\n",
    "    #remove long/lat values of \"None\"\n",
    "    return list(filter(lambda x: x['latitude']!=None,brewery_list))\n",
    "\n",
    "def convert_long_lat_to_float(brewery_list):\n",
    "    #coerce latitude into float\n",
    "    #coerce longitude into float\n",
    "    new_brew_list = []\n",
    "    for brewery in brewery_list:\n",
    "        new_brew = brewery.copy()\n",
    "        new_brew['longitude'] = float(brewery['longitude'])\n",
    "        new_brew['latitude'] = float(brewery['latitude'])\n",
    "        new_brew_list.append(new_brew)\n",
    "    return new_brew_list\n",
    "\n",
    "top_100_cleaned = convert_long_lat_to_float(remove_invalid_distance(top_100))\n",
    "devil_potion = list(filter(lambda x: x['name']==\"Devil's Potion Brewing Company LLC\",top_100_cleaned))[0]\n",
    "devil_potion"
   ]
  },
  {
   "cell_type": "code",
   "execution_count": 64,
   "metadata": {},
   "outputs": [
    {
     "data": {
      "text/plain": [
       "30.309840116145182"
      ]
     },
     "execution_count": 64,
     "metadata": {},
     "output_type": "execute_result"
    }
   ],
   "source": [
    "import math\n",
    "def brewery_distance(first_brewery, second_brewery):\n",
    "    a = first_brewery['longitude']-second_brewery['longitude']\n",
    "    b = first_brewery['latitude']-second_brewery['latitude']\n",
    "    c_squared = a**2+b**2\n",
    "    return math.sqrt(c_squared)\n",
    "brewery_distance(devil_potion,top_100_cleaned[0])"
   ]
  },
  {
   "cell_type": "code",
   "execution_count": 79,
   "metadata": {},
   "outputs": [],
   "source": [
    "def closest_brew_buddy(first_brewery, brewery_list):\n",
    "    remove_first_brewery = list(filter(lambda list_brewery: first_brewery!=list_brewery,brewery_list))\n",
    "    all_brew_distances_sorted_close_far = sorted(list(map(lambda other_brewery: brewery_distance(first_brewery, other_brewery),remove_first_brewery)))\n",
    "    closest_brewery = all_brew_distances_sorted_close_far[0]\n",
    "    return list(filter(lambda other_brewery: closest_brewery==brewery_distance(first_brewery, other_brewery),brewery_list))[0]"
   ]
  },
  {
   "cell_type": "code",
   "execution_count": 80,
   "metadata": {},
   "outputs": [
    {
     "data": {
      "text/plain": [
       "{'id': 924,\n",
       " 'name': 'Port Brewing Co / The Lost Abbey',\n",
       " 'brewery_type': 'micro',\n",
       " 'street': '155 Mata Way Ste 104',\n",
       " 'city': 'San Marcos',\n",
       " 'state': 'California',\n",
       " 'postal_code': '92069-2983',\n",
       " 'country': 'United States',\n",
       " 'longitude': -117.149141,\n",
       " 'latitude': 33.141537,\n",
       " 'phone': '8009186816',\n",
       " 'website_url': 'http://www.portbrewing.com',\n",
       " 'updated_at': '2018-08-24T00:01:07.397Z'}"
      ]
     },
     "execution_count": 80,
     "metadata": {},
     "output_type": "execute_result"
    }
   ],
   "source": [
    "closest_brew_buddy(devil_potion,top_100_cleaned)"
   ]
  },
  {
   "cell_type": "markdown",
   "metadata": {},
   "source": [
    "### Q6: Write a function to find the closest brewery to any other given brewery"
   ]
  },
  {
   "cell_type": "code",
   "execution_count": null,
   "metadata": {},
   "outputs": [],
   "source": [
    "#see closest_brew_buddy()\n"
   ]
  },
  {
   "cell_type": "markdown",
   "metadata": {},
   "source": [
    "### Q7: How would you get the first 10 pages from this API and put them all together using a for loop?"
   ]
  },
  {
   "cell_type": "code",
   "execution_count": 100,
   "metadata": {},
   "outputs": [
    {
     "data": {
      "text/plain": [
       "500"
      ]
     },
     "execution_count": 100,
     "metadata": {},
     "output_type": "execute_result"
    }
   ],
   "source": [
    "def pull_api_brewery_info(number_of_pages):\n",
    "    brew_lol = []\n",
    "    for page in list(range(1, number_of_pages+1)):\n",
    "        brew_entry = requests.get('https://api.openbrewerydb.org/breweries?page='+str(page)+'&per_page=50')\n",
    "        brew_lol.append(brew_entry.json())\n",
    "    return [val for sublist in brew_lol for val in sublist]\n",
    "len(pull_api_brewery_info(10))"
   ]
  },
  {
   "cell_type": "markdown",
   "metadata": {},
   "source": [
    "# Crime in the UK"
   ]
  },
  {
   "cell_type": "markdown",
   "metadata": {},
   "source": [
    "### We will be analyzing different crimes reported in the UK as provided by https://data.police.uk/docs/"
   ]
  },
  {
   "cell_type": "markdown",
   "metadata": {},
   "source": [
    "# Exploratory analysis\n",
    "##### 1. How many total crimes were there at latitude : 52.63902 and -1.131321 on November of 2017.\n",
    "Use the street level crimes data, the documentation for the API can be found at https://data.police.uk/docs/method/crime-street/"
   ]
  },
  {
   "cell_type": "code",
   "execution_count": 137,
   "metadata": {},
   "outputs": [
    {
     "data": {
      "text/plain": [
       "{'category': 'anti-social-behaviour',\n",
       " 'location_type': 'Force',\n",
       " 'location': {'latitude': '52.635184',\n",
       "  'street': {'id': 883410, 'name': 'On or near Shopping Area'},\n",
       "  'longitude': '-1.135455'},\n",
       " 'context': '',\n",
       " 'outcome_status': None,\n",
       " 'persistent_id': '',\n",
       " 'id': 61222401,\n",
       " 'location_subtype': '',\n",
       " 'month': '2017-11'}"
      ]
     },
     "execution_count": 137,
     "metadata": {},
     "output_type": "execute_result"
    }
   ],
   "source": [
    "import requests\n",
    "def total_crimes_at_location(lat,lng,YYYY_MM=None): \n",
    "    TCAL = requests.get('https://data.police.uk/api/crimes-street/all-crime?lat='+str(lat)+'&lng='+str(lng)+'&date='+str(YYYY_MM)+'')\n",
    "    return TCAL.json()\n",
    "\n",
    "total_crimes_at_location(52.63902,-1.131321,'2017-11')[0]"
   ]
  },
  {
   "cell_type": "markdown",
   "metadata": {},
   "source": [
    "##### 2. We've queried the API once, but it could get annoying to retype the url over and over again, create a function `make_api_request` that enables you to query the API.\n",
    "\n",
    "\n",
    " The parameters for the function should be:\n",
    "* lat (float) : latitude\n",
    "* lng (float) : longitude\n",
    "* date (string): Date in the format YYYY-MM\n",
    "    * default value = `None`\n",
    "    \n",
    "And it should return a json object of \n",
    "\n",
    "for more information on default values check out http://blog.thedigitalcatonline.com/blog/2015/02/11/default-arguments-in-python/"
   ]
  },
  {
   "cell_type": "code",
   "execution_count": null,
   "metadata": {},
   "outputs": [],
   "source": [
    "#See total_crimes_at_location()\n"
   ]
  },
  {
   "cell_type": "markdown",
   "metadata": {},
   "source": [
    "##### 3. Write a function `categories_of_crime` that will determine the count of each type of crime for a given latitude and longitude. This is labelled as 'category' in the records. Your function should call the `make_api_request` function you created.\n",
    "\n",
    "The parameters for the function should be:\n",
    "\n",
    "* lat (float) : latitude\n",
    "* lng (float) : longitude\n",
    "* date (str) default = None\n",
    "\n",
    "The function should return:\n",
    "* a dictionary with the count of each type of crime\n",
    "\n",
    "\n",
    "\n",
    "Once you've created the function, try it with these locations\n",
    "* lat, lng of 51.5017861,-0.1432319   (Buckingham Palace)\n",
    "* lat, lng of 53.480161, -2.245163     (Manchester)"
   ]
  },
  {
   "cell_type": "code",
   "execution_count": 19,
   "metadata": {},
   "outputs": [],
   "source": [
    "def make_category_dictionary(unique_list, full_list):\n",
    "    CD=[]\n",
    "    for category in unique_list:\n",
    "        CD_dict = {}\n",
    "        CD_dict['category'] = category\n",
    "        CD_dict['frequence_count'] = full_list.count(category)\n",
    "        CD.append(CD_dict)\n",
    "    return sorted(CD, key=lambda k:k['category'])"
   ]
  },
  {
   "cell_type": "code",
   "execution_count": 39,
   "metadata": {},
   "outputs": [
    {
     "data": {
      "text/plain": [
       "[{'category': 'anti-social-behaviour', 'frequence_count': 608},\n",
       " {'category': 'bicycle-theft', 'frequence_count': 65},\n",
       " {'category': 'burglary', 'frequence_count': 138},\n",
       " {'category': 'criminal-damage-arson', 'frequence_count': 82},\n",
       " {'category': 'drugs', 'frequence_count': 74},\n",
       " {'category': 'other-crime', 'frequence_count': 22},\n",
       " {'category': 'other-theft', 'frequence_count': 810},\n",
       " {'category': 'possession-of-weapons', 'frequence_count': 26},\n",
       " {'category': 'public-order', 'frequence_count': 174},\n",
       " {'category': 'robbery', 'frequence_count': 141},\n",
       " {'category': 'shoplifting', 'frequence_count': 329},\n",
       " {'category': 'theft-from-the-person', 'frequence_count': 586},\n",
       " {'category': 'vehicle-crime', 'frequence_count': 102},\n",
       " {'category': 'violent-crime', 'frequence_count': 553}]"
      ]
     },
     "execution_count": 39,
     "metadata": {},
     "output_type": "execute_result"
    }
   ],
   "source": [
    "def categories_of_crime(lat,lng,YYYY_MM=None): \n",
    "    data = total_crimes_at_location(lat,lng,YYYY_MM=None)\n",
    "    all_category_instances = list(map(lambda crime: crime['category'],data))\n",
    "    setlist_of_categories = list(set(all_category_instances))\n",
    "    return make_category_dictionary(setlist_of_categories, all_category_instances)\n",
    "buckinham_palace = {'lat':51.5017861,'lng':-0.1432319,'name':'buckingham'}\n",
    "manchester = {'lat':53.480161,'lng': -2.245163,'name':'manchester'}\n",
    "categories_of_crime(buckinham_palace['lat'],buckinham_palace['lng'])"
   ]
  },
  {
   "cell_type": "markdown",
   "metadata": {},
   "source": [
    "**Bonus**: \n",
    "* Write a function that determines the difference between Buckingham Palace and Manchester in terms of the number of crimes in each category.\n",
    "    * In which category is there the largest absolute difference between the category of crime?\n",
    "* Create a histogram depiction of the categories of crime"
   ]
  },
  {
   "cell_type": "code",
   "execution_count": 34,
   "metadata": {},
   "outputs": [],
   "source": [
    "def category_compare(full_list1, full_list2):\n",
    "    CC=[]\n",
    "    for category in full_list1:\n",
    "        CC_dict = {}\n",
    "        CC_dict['category'] = category\n",
    "        CC_dict['count'] = full_list2.count(category)\n",
    "        CC.append(CC_dict)\n",
    "    return sorted(CC, key=lambda k:k['count'],reverse=True)"
   ]
  },
  {
   "cell_type": "code",
   "execution_count": 44,
   "metadata": {},
   "outputs": [],
   "source": [
    "def categories_of_crime_compare(place_1_information,place_2_information,YYYY_MM=None): \n",
    "    place_1_stats = categories_of_crime(place_1_information['lat'],place_1_information['lng'],YYYY_MM=None)\n",
    "    place_2_stats = categories_of_crime(place_2_information['lat'],place_2_information['lng'],YYYY_MM=None)\n",
    "    compare_list = []\n",
    "    for x in list(range(0,len(place_1_stats))):\n",
    "        compare_dict = {}\n",
    "        compare_dict['category'] = place_1_stats[x]['category']\n",
    "        compare_dict['frequency_count_'+str(place_1_information['name'])] = place_1_stats[x]['frequence_count']\n",
    "        compare_dict['frequency_count_'+str(place_2_information['name'])] = place_2_stats[x]['frequence_count']\n",
    "        compare_dict['absolute difference'] = abs(place_1_stats[x]['frequence_count']-place_2_stats[x]['frequence_count'])\n",
    "        compare_list.append(compare_dict)\n",
    "    return compare_list"
   ]
  },
  {
   "cell_type": "code",
   "execution_count": 47,
   "metadata": {
    "scrolled": true
   },
   "outputs": [],
   "source": [
    "buckinham_manchester_compare = categories_of_crime_compare(buckinham_palace,manchester,'2011-11')"
   ]
  },
  {
   "cell_type": "code",
   "execution_count": 48,
   "metadata": {},
   "outputs": [
    {
     "name": "stdout",
     "output_type": "stream",
     "text": [
      "Requirement already satisfied: plotly in /anaconda3/lib/python3.7/site-packages (3.3.0)\n",
      "Requirement already satisfied: decorator>=4.0.6 in /anaconda3/lib/python3.7/site-packages (from plotly) (4.3.0)\n",
      "Requirement already satisfied: six in /anaconda3/lib/python3.7/site-packages (from plotly) (1.11.0)\n",
      "Requirement already satisfied: requests in /anaconda3/lib/python3.7/site-packages (from plotly) (2.19.1)\n",
      "Requirement already satisfied: nbformat>=4.2 in /anaconda3/lib/python3.7/site-packages (from plotly) (4.4.0)\n",
      "Requirement already satisfied: retrying>=1.3.3 in /anaconda3/lib/python3.7/site-packages (from plotly) (1.3.3)\n",
      "Requirement already satisfied: pytz in /anaconda3/lib/python3.7/site-packages (from plotly) (2018.5)\n",
      "Requirement already satisfied: certifi>=2017.4.17 in /anaconda3/lib/python3.7/site-packages (from requests->plotly) (2018.8.24)\n",
      "Requirement already satisfied: idna<2.8,>=2.5 in /anaconda3/lib/python3.7/site-packages (from requests->plotly) (2.7)\n",
      "Requirement already satisfied: urllib3<1.24,>=1.21.1 in /anaconda3/lib/python3.7/site-packages (from requests->plotly) (1.23)\n",
      "Requirement already satisfied: chardet<3.1.0,>=3.0.2 in /anaconda3/lib/python3.7/site-packages (from requests->plotly) (3.0.4)\n",
      "Requirement already satisfied: ipython-genutils in /anaconda3/lib/python3.7/site-packages (from nbformat>=4.2->plotly) (0.2.0)\n",
      "Requirement already satisfied: traitlets>=4.1 in /anaconda3/lib/python3.7/site-packages (from nbformat>=4.2->plotly) (4.3.2)\n",
      "Requirement already satisfied: jupyter-core in /anaconda3/lib/python3.7/site-packages (from nbformat>=4.2->plotly) (4.4.0)\n",
      "Requirement already satisfied: jsonschema!=2.5.0,>=2.4 in /anaconda3/lib/python3.7/site-packages (from nbformat>=4.2->plotly) (2.6.0)\n",
      "\u001b[31mtwisted 18.7.0 requires PyHamcrest>=1.9.0, which is not installed.\u001b[0m\n",
      "\u001b[33mYou are using pip version 10.0.1, however version 18.1 is available.\n",
      "You should consider upgrading via the 'pip install --upgrade pip' command.\u001b[0m\n",
      "Requirement already satisfied: xlrd in /anaconda3/lib/python3.7/site-packages (1.1.0)\n",
      "\u001b[31mtwisted 18.7.0 requires PyHamcrest>=1.9.0, which is not installed.\u001b[0m\n",
      "\u001b[33mYou are using pip version 10.0.1, however version 18.1 is available.\n",
      "You should consider upgrading via the 'pip install --upgrade pip' command.\u001b[0m\n"
     ]
    },
    {
     "data": {
      "text/html": [
       "<script>requirejs.config({paths: { 'plotly': ['https://cdn.plot.ly/plotly-latest.min']},});if(!window.Plotly) {{require(['plotly'],function(plotly) {window.Plotly=plotly;});}}</script>"
      ],
      "text/vnd.plotly.v1+html": [
       "<script>requirejs.config({paths: { 'plotly': ['https://cdn.plot.ly/plotly-latest.min']},});if(!window.Plotly) {{require(['plotly'],function(plotly) {window.Plotly=plotly;});}}</script>"
      ]
     },
     "metadata": {},
     "output_type": "display_data"
    }
   ],
   "source": [
    "!pip install plotly\n",
    "!pip install xlrd\n",
    "\n",
    "import plotly\n",
    "\n",
    "plotly.offline.init_notebook_mode(connected=True)"
   ]
  },
  {
   "cell_type": "code",
   "execution_count": 59,
   "metadata": {},
   "outputs": [],
   "source": [
    "def plot_category_histogram(place_1_information,place_2_information,YYYY_MM=None):\n",
    "    CC = categories_of_crime_compare(place_1_information,place_2_information,YYYY_MM=None)\n",
    "    plot_dict_1 = {}\n",
    "    plot_dict_1['type'] = 'bar'\n",
    "    plot_dict_1['x'] = list(map(lambda crime: crime['category'],CC))\n",
    "    plot_dict_1['y'] = list(map(lambda frequency: frequency['frequency_count_'+str(place_1_information['name'])],CC))\n",
    "    plot_dict_1['name'] = str(place_1_information['name'].title())\n",
    "    plot_dict_2 = {}\n",
    "    plot_dict_2['type'] = 'bar'\n",
    "    plot_dict_2['x'] = list(map(lambda crime: crime['category'],CC))\n",
    "    plot_dict_2['y'] = list(map(lambda frequency: frequency['frequency_count_'+str(place_2_information['name'])],CC))\n",
    "    plot_dict_2['name'] = str(place_2_information['name'].title())\n",
    "    return plotly.offline.iplot([plot_dict_1,plot_dict_2]) \n"
   ]
  },
  {
   "cell_type": "code",
   "execution_count": 60,
   "metadata": {},
   "outputs": [
    {
     "data": {
      "application/vnd.plotly.v1+json": {
       "data": [
        {
         "name": "Buckingham",
         "type": "bar",
         "uid": "880601c4-d8ac-11e8-8d06-88e9fe8524bd",
         "x": [
          "anti-social-behaviour",
          "bicycle-theft",
          "burglary",
          "criminal-damage-arson",
          "drugs",
          "other-crime",
          "other-theft",
          "possession-of-weapons",
          "public-order",
          "robbery",
          "shoplifting",
          "theft-from-the-person",
          "vehicle-crime",
          "violent-crime"
         ],
         "y": [
          608,
          65,
          138,
          82,
          74,
          22,
          810,
          26,
          174,
          141,
          329,
          586,
          102,
          553
         ]
        },
        {
         "name": "Manchester",
         "type": "bar",
         "uid": "880602e6-d8ac-11e8-8d06-88e9fe8524bd",
         "x": [
          "anti-social-behaviour",
          "bicycle-theft",
          "burglary",
          "criminal-damage-arson",
          "drugs",
          "other-crime",
          "other-theft",
          "possession-of-weapons",
          "public-order",
          "robbery",
          "shoplifting",
          "theft-from-the-person",
          "vehicle-crime",
          "violent-crime"
         ],
         "y": [
          422,
          86,
          95,
          132,
          42,
          25,
          357,
          25,
          289,
          134,
          159,
          321,
          284,
          607
         ]
        }
       ],
       "layout": {}
      },
      "text/html": [
       "<div id=\"840ebcc2-9da4-4b15-8acc-99826fc1ebdb\" style=\"height: 525px; width: 100%;\" class=\"plotly-graph-div\"></div><script type=\"text/javascript\">require([\"plotly\"], function(Plotly) { window.PLOTLYENV=window.PLOTLYENV || {};window.PLOTLYENV.BASE_URL=\"https://plot.ly\";Plotly.newPlot(\"840ebcc2-9da4-4b15-8acc-99826fc1ebdb\", [{\"name\": \"Buckingham\", \"x\": [\"anti-social-behaviour\", \"bicycle-theft\", \"burglary\", \"criminal-damage-arson\", \"drugs\", \"other-crime\", \"other-theft\", \"possession-of-weapons\", \"public-order\", \"robbery\", \"shoplifting\", \"theft-from-the-person\", \"vehicle-crime\", \"violent-crime\"], \"y\": [608, 65, 138, 82, 74, 22, 810, 26, 174, 141, 329, 586, 102, 553], \"type\": \"bar\", \"uid\": \"8807fba0-d8ac-11e8-8d06-88e9fe8524bd\"}, {\"name\": \"Manchester\", \"x\": [\"anti-social-behaviour\", \"bicycle-theft\", \"burglary\", \"criminal-damage-arson\", \"drugs\", \"other-crime\", \"other-theft\", \"possession-of-weapons\", \"public-order\", \"robbery\", \"shoplifting\", \"theft-from-the-person\", \"vehicle-crime\", \"violent-crime\"], \"y\": [422, 86, 95, 132, 42, 25, 357, 25, 289, 134, 159, 321, 284, 607], \"type\": \"bar\", \"uid\": \"8807fcd6-d8ac-11e8-8d06-88e9fe8524bd\"}], {}, {\"showLink\": true, \"linkText\": \"Export to plot.ly\"})});</script>"
      ],
      "text/vnd.plotly.v1+html": [
       "<div id=\"840ebcc2-9da4-4b15-8acc-99826fc1ebdb\" style=\"height: 525px; width: 100%;\" class=\"plotly-graph-div\"></div><script type=\"text/javascript\">require([\"plotly\"], function(Plotly) { window.PLOTLYENV=window.PLOTLYENV || {};window.PLOTLYENV.BASE_URL=\"https://plot.ly\";Plotly.newPlot(\"840ebcc2-9da4-4b15-8acc-99826fc1ebdb\", [{\"name\": \"Buckingham\", \"x\": [\"anti-social-behaviour\", \"bicycle-theft\", \"burglary\", \"criminal-damage-arson\", \"drugs\", \"other-crime\", \"other-theft\", \"possession-of-weapons\", \"public-order\", \"robbery\", \"shoplifting\", \"theft-from-the-person\", \"vehicle-crime\", \"violent-crime\"], \"y\": [608, 65, 138, 82, 74, 22, 810, 26, 174, 141, 329, 586, 102, 553], \"type\": \"bar\", \"uid\": \"8807fba0-d8ac-11e8-8d06-88e9fe8524bd\"}, {\"name\": \"Manchester\", \"x\": [\"anti-social-behaviour\", \"bicycle-theft\", \"burglary\", \"criminal-damage-arson\", \"drugs\", \"other-crime\", \"other-theft\", \"possession-of-weapons\", \"public-order\", \"robbery\", \"shoplifting\", \"theft-from-the-person\", \"vehicle-crime\", \"violent-crime\"], \"y\": [422, 86, 95, 132, 42, 25, 357, 25, 289, 134, 159, 321, 284, 607], \"type\": \"bar\", \"uid\": \"8807fcd6-d8ac-11e8-8d06-88e9fe8524bd\"}], {}, {\"showLink\": true, \"linkText\": \"Export to plot.ly\"})});</script>"
      ]
     },
     "metadata": {},
     "output_type": "display_data"
    }
   ],
   "source": [
    "plot_category_histogram(buckinham_palace,manchester,'2011-11')"
   ]
  },
  {
   "cell_type": "markdown",
   "metadata": {},
   "source": [
    "##### 4. Create a function `find_outcome_statuses` that will determine outcome statuses for a given latitude and longitude and date (optional)?\n",
    "Investigate the data to determine where the outcome statuses are located.\n",
    "\n",
    "**NOTE**: You'll notice that some of these crimes do not have crime outcomes. Make these into the category of \"Not Resolved.\"\n",
    "\n",
    "**NOTE 2**: These might take a long time to execute if you do not specify a month\n",
    "\n",
    "**Bonus**: What is the ratio of crimes investigated to those not investigated? Is it higher near London or Manchester?"
   ]
  },
  {
   "cell_type": "code",
   "execution_count": 111,
   "metadata": {},
   "outputs": [],
   "source": [
    "def crime_status(unique_list, full_list):\n",
    "    CS=[]\n",
    "    for status in unique_list:\n",
    "        CS_dict = {}\n",
    "        CS_dict['outcome_status'] = status\n",
    "        CS_dict['frequency_count'] = full_list.count(status)\n",
    "        CS.append(CS_dict)\n",
    "    return sorted(CS, key=lambda k:k['outcome_status'],reverse=True)"
   ]
  },
  {
   "cell_type": "code",
   "execution_count": 124,
   "metadata": {},
   "outputs": [],
   "source": [
    "def find_outcome_statuses(lat,lng,YYYY_MM=None):\n",
    "    crime_data = total_crimes_at_location(lat,lng,YYYY_MM=None)\n",
    "    crime_status_list = []\n",
    "    for crime in crime_data:\n",
    "        if crime['outcome_status']==None:\n",
    "            crime_status_list.append(\"Not Resolved\")\n",
    "        else:\n",
    "            crime_status_list.append(crime['outcome_status'])\n",
    "    real_status_list = list(filter(lambda x:x!='Not Resolved',crime_status_list))\n",
    "    list_of_status_categories = list(map(lambda status: status['category'],real_status_list))\n",
    "    unique_list_of_status_categories = set(list_of_status_categories)\n",
    "    real_status_frequency_list = crime_status(unique_list_of_status_categories, list_of_status_categories)\n",
    "    add_not_resolved = {'outcome_status' : 'Not Resolved','frequency_count' : len(list(filter(lambda x:x=='Not Resolved',crime_status_list)))}\n",
    "    real_status_frequency_list.append(add_not_resolved)\n",
    "    return real_status_frequency_list\n",
    "\n",
    "#how to determine investigated vs. not investigated\n",
    "def outcome_ratio(lat,lng,YYYY_MM=None):\n",
    "    outcome_statuses = find_outcome_statuses(lat,lng,YYYY_MM=None)\n",
    "    total_incidents = sum(list(map(lambda frequency:frequency['frequency_count'],outcome_statuses)))\n",
    "    total_not_resolved = \n",
    "    return "
   ]
  },
  {
   "cell_type": "code",
   "execution_count": 126,
   "metadata": {},
   "outputs": [
    {
     "data": {
      "text/plain": [
       "[{'outcome_status': 'Under investigation', 'frequency_count': 404},\n",
       " {'outcome_status': 'Unable to prosecute suspect', 'frequency_count': 204},\n",
       " {'outcome_status': 'Offender given a caution', 'frequency_count': 5},\n",
       " {'outcome_status': 'Local resolution', 'frequency_count': 14},\n",
       " {'outcome_status': 'Investigation complete; no suspect identified',\n",
       "  'frequency_count': 547},\n",
       " {'outcome_status': 'Further investigation is not in the public interest',\n",
       "  'frequency_count': 23},\n",
       " {'outcome_status': 'Formal action is not in the public interest',\n",
       "  'frequency_count': 36},\n",
       " {'outcome_status': 'Awaiting court outcome', 'frequency_count': 76},\n",
       " {'outcome_status': 'Action to be taken by another organisation',\n",
       "  'frequency_count': 4},\n",
       " {'outcome_status': 'Not Resolved', 'frequency_count': 257}]"
      ]
     },
     "execution_count": 126,
     "metadata": {},
     "output_type": "execute_result"
    }
   ],
   "source": [
    "#total_crimes_at_location(52.63902,-1.131321,'2017-11')[4]\n",
    "find_outcome_statuses(52.63902,-1.131321,'2017-11')\n",
    "#outcome_ratio(52.63902,-1.131321,'2017-11')"
   ]
  },
  {
   "cell_type": "markdown",
   "metadata": {},
   "source": [
    "##### 5. Write a function `month_highest_crimes` that will return the month that had the highest number of crimes for a latitude, longitude and a year.\n",
    "\n",
    "Inputs\n",
    "* lat (float) : latitude\n",
    "* lng (float) : longitude\n",
    "* year (str) : in the format YYYY\n",
    "\n",
    "Output\n",
    "* month with highest crime (int)\n",
    "\n",
    "**Bonus** Make a graph of how the number of crimes changed over time for a year. This will likely require a new function. Is seasonality a factor? Do the type of crimes change over time?"
   ]
  },
  {
   "cell_type": "code",
   "execution_count": null,
   "metadata": {},
   "outputs": [],
   "source": [
    "def month_information(unique_list, full_list):\n",
    "    MI=[]\n",
    "    for month in unique_list:\n",
    "        MI_dict = {}\n",
    "        MI_dict['outcome_status'] = month\n",
    "        MI_dict['frequency_count'] = full_list.count(month)\n",
    "        MI.append(MI_dict)\n",
    "    return sorted(MI, key=lambda k:k['outcome_status'],reverse=True)"
   ]
  },
  {
   "cell_type": "code",
   "execution_count": 134,
   "metadata": {},
   "outputs": [
    {
     "data": {
      "text/plain": [
       "{'category': 'anti-social-behaviour',\n",
       " 'location_type': 'Force',\n",
       " 'location': {'latitude': '52.635184',\n",
       "  'street': {'id': 883410, 'name': 'On or near Shopping Area'},\n",
       "  'longitude': '-1.135455'},\n",
       " 'context': '',\n",
       " 'outcome_status': None,\n",
       " 'persistent_id': '',\n",
       " 'id': 61222401,\n",
       " 'location_subtype': '',\n",
       " 'month': '2017-11',\n",
       " 'year': 2017,\n",
       " 'month_actual': 11}"
      ]
     },
     "execution_count": 134,
     "metadata": {},
     "output_type": "execute_result"
    }
   ],
   "source": [
    "def separate_date_field_YYYYMM(entry):\n",
    "    cleaned_entry = entry.copy()\n",
    "    cleaned_month = entry['month'].split(\"-\")\n",
    "    cleaned_entry['year'] = int(cleaned_month[0])\n",
    "    cleaned_entry['month_actual'] = int(cleaned_month[1])\n",
    "    return cleaned_entry\n",
    "separate_date_field_YYYYMM(total_crimes_at_location(52.63902,-1.131321,'2017-11')[0])"
   ]
  },
  {
   "cell_type": "code",
   "execution_count": 135,
   "metadata": {},
   "outputs": [],
   "source": [
    "def month_highest_crimes(lat,lng,YYYY):\n",
    "    crime_data = total_crimes_at_location(lat,lng,YYYY)\n",
    "    clean_crime_data = list(map(lambda entry:separate_date_field_YYYYMM(entry),crime_data)\n",
    "    all_months = list(map(lambda x: x['month_actual'],clean_crime_data))\n",
    "    setlist_months = set(all_months)\n",
    "    return month_information(setlist_months, all_months)"
   ]
  },
  {
   "cell_type": "code",
   "execution_count": 139,
   "metadata": {},
   "outputs": [
    {
     "ename": "JSONDecodeError",
     "evalue": "Expecting value: line 1 column 1 (char 0)",
     "output_type": "error",
     "traceback": [
      "\u001b[0;31m---------------------------------------------------------------------------\u001b[0m",
      "\u001b[0;31mJSONDecodeError\u001b[0m                           Traceback (most recent call last)",
      "\u001b[0;32m<ipython-input-139-b85d17f48494>\u001b[0m in \u001b[0;36m<module>\u001b[0;34m()\u001b[0m\n\u001b[0;32m----> 1\u001b[0;31m \u001b[0mmonth_highest_crimes\u001b[0m\u001b[0;34m(\u001b[0m\u001b[0;36m52.63902\u001b[0m\u001b[0;34m,\u001b[0m\u001b[0;34m-\u001b[0m\u001b[0;36m1.131321\u001b[0m\u001b[0;34m,\u001b[0m\u001b[0;34m'2017'\u001b[0m\u001b[0;34m)\u001b[0m\u001b[0;34m\u001b[0m\u001b[0m\n\u001b[0m",
      "\u001b[0;32m<ipython-input-135-a21d000eab34>\u001b[0m in \u001b[0;36mmonth_highest_crimes\u001b[0;34m(lat, lng, YYYY)\u001b[0m\n\u001b[1;32m      1\u001b[0m \u001b[0;32mdef\u001b[0m \u001b[0mmonth_highest_crimes\u001b[0m\u001b[0;34m(\u001b[0m\u001b[0mlat\u001b[0m\u001b[0;34m,\u001b[0m\u001b[0mlng\u001b[0m\u001b[0;34m,\u001b[0m\u001b[0mYYYY\u001b[0m\u001b[0;34m)\u001b[0m\u001b[0;34m:\u001b[0m\u001b[0;34m\u001b[0m\u001b[0m\n\u001b[0;32m----> 2\u001b[0;31m     \u001b[0mcrime_data\u001b[0m \u001b[0;34m=\u001b[0m \u001b[0mtotal_crimes_at_location\u001b[0m\u001b[0;34m(\u001b[0m\u001b[0mlat\u001b[0m\u001b[0;34m,\u001b[0m\u001b[0mlng\u001b[0m\u001b[0;34m,\u001b[0m\u001b[0mYYYY\u001b[0m\u001b[0;34m)\u001b[0m\u001b[0;34m\u001b[0m\u001b[0m\n\u001b[0m\u001b[1;32m      3\u001b[0m \u001b[0;34m\u001b[0m\u001b[0m\n",
      "\u001b[0;32m<ipython-input-137-5ef27cb9d4da>\u001b[0m in \u001b[0;36mtotal_crimes_at_location\u001b[0;34m(lat, lng, YYYY_MM)\u001b[0m\n\u001b[1;32m      2\u001b[0m \u001b[0;32mdef\u001b[0m \u001b[0mtotal_crimes_at_location\u001b[0m\u001b[0;34m(\u001b[0m\u001b[0mlat\u001b[0m\u001b[0;34m,\u001b[0m\u001b[0mlng\u001b[0m\u001b[0;34m,\u001b[0m\u001b[0mYYYY_MM\u001b[0m\u001b[0;34m=\u001b[0m\u001b[0;32mNone\u001b[0m\u001b[0;34m)\u001b[0m\u001b[0;34m:\u001b[0m\u001b[0;34m\u001b[0m\u001b[0m\n\u001b[1;32m      3\u001b[0m     \u001b[0mTCAL\u001b[0m \u001b[0;34m=\u001b[0m \u001b[0mrequests\u001b[0m\u001b[0;34m.\u001b[0m\u001b[0mget\u001b[0m\u001b[0;34m(\u001b[0m\u001b[0;34m'https://data.police.uk/api/crimes-street/all-crime?lat='\u001b[0m\u001b[0;34m+\u001b[0m\u001b[0mstr\u001b[0m\u001b[0;34m(\u001b[0m\u001b[0mlat\u001b[0m\u001b[0;34m)\u001b[0m\u001b[0;34m+\u001b[0m\u001b[0;34m'&lng='\u001b[0m\u001b[0;34m+\u001b[0m\u001b[0mstr\u001b[0m\u001b[0;34m(\u001b[0m\u001b[0mlng\u001b[0m\u001b[0;34m)\u001b[0m\u001b[0;34m+\u001b[0m\u001b[0;34m'&date='\u001b[0m\u001b[0;34m+\u001b[0m\u001b[0mstr\u001b[0m\u001b[0;34m(\u001b[0m\u001b[0mYYYY_MM\u001b[0m\u001b[0;34m)\u001b[0m\u001b[0;34m+\u001b[0m\u001b[0;34m''\u001b[0m\u001b[0;34m)\u001b[0m\u001b[0;34m\u001b[0m\u001b[0m\n\u001b[0;32m----> 4\u001b[0;31m     \u001b[0;32mreturn\u001b[0m \u001b[0mTCAL\u001b[0m\u001b[0;34m.\u001b[0m\u001b[0mjson\u001b[0m\u001b[0;34m(\u001b[0m\u001b[0;34m)\u001b[0m\u001b[0;34m\u001b[0m\u001b[0m\n\u001b[0m\u001b[1;32m      5\u001b[0m \u001b[0;34m\u001b[0m\u001b[0m\n\u001b[1;32m      6\u001b[0m \u001b[0mtotal_crimes_at_location\u001b[0m\u001b[0;34m(\u001b[0m\u001b[0;36m52.63902\u001b[0m\u001b[0;34m,\u001b[0m\u001b[0;34m-\u001b[0m\u001b[0;36m1.131321\u001b[0m\u001b[0;34m,\u001b[0m\u001b[0;34m'2017-11'\u001b[0m\u001b[0;34m)\u001b[0m\u001b[0;34m[\u001b[0m\u001b[0;36m0\u001b[0m\u001b[0;34m]\u001b[0m\u001b[0;34m\u001b[0m\u001b[0m\n",
      "\u001b[0;32m/anaconda3/lib/python3.7/site-packages/requests/models.py\u001b[0m in \u001b[0;36mjson\u001b[0;34m(self, **kwargs)\u001b[0m\n\u001b[1;32m    894\u001b[0m                     \u001b[0;31m# used.\u001b[0m\u001b[0;34m\u001b[0m\u001b[0;34m\u001b[0m\u001b[0m\n\u001b[1;32m    895\u001b[0m                     \u001b[0;32mpass\u001b[0m\u001b[0;34m\u001b[0m\u001b[0m\n\u001b[0;32m--> 896\u001b[0;31m         \u001b[0;32mreturn\u001b[0m \u001b[0mcomplexjson\u001b[0m\u001b[0;34m.\u001b[0m\u001b[0mloads\u001b[0m\u001b[0;34m(\u001b[0m\u001b[0mself\u001b[0m\u001b[0;34m.\u001b[0m\u001b[0mtext\u001b[0m\u001b[0;34m,\u001b[0m \u001b[0;34m**\u001b[0m\u001b[0mkwargs\u001b[0m\u001b[0;34m)\u001b[0m\u001b[0;34m\u001b[0m\u001b[0m\n\u001b[0m\u001b[1;32m    897\u001b[0m \u001b[0;34m\u001b[0m\u001b[0m\n\u001b[1;32m    898\u001b[0m     \u001b[0;34m@\u001b[0m\u001b[0mproperty\u001b[0m\u001b[0;34m\u001b[0m\u001b[0m\n",
      "\u001b[0;32m/anaconda3/lib/python3.7/json/__init__.py\u001b[0m in \u001b[0;36mloads\u001b[0;34m(s, encoding, cls, object_hook, parse_float, parse_int, parse_constant, object_pairs_hook, **kw)\u001b[0m\n\u001b[1;32m    346\u001b[0m             \u001b[0mparse_int\u001b[0m \u001b[0;32mis\u001b[0m \u001b[0;32mNone\u001b[0m \u001b[0;32mand\u001b[0m \u001b[0mparse_float\u001b[0m \u001b[0;32mis\u001b[0m \u001b[0;32mNone\u001b[0m \u001b[0;32mand\u001b[0m\u001b[0;34m\u001b[0m\u001b[0m\n\u001b[1;32m    347\u001b[0m             parse_constant is None and object_pairs_hook is None and not kw):\n\u001b[0;32m--> 348\u001b[0;31m         \u001b[0;32mreturn\u001b[0m \u001b[0m_default_decoder\u001b[0m\u001b[0;34m.\u001b[0m\u001b[0mdecode\u001b[0m\u001b[0;34m(\u001b[0m\u001b[0ms\u001b[0m\u001b[0;34m)\u001b[0m\u001b[0;34m\u001b[0m\u001b[0m\n\u001b[0m\u001b[1;32m    349\u001b[0m     \u001b[0;32mif\u001b[0m \u001b[0mcls\u001b[0m \u001b[0;32mis\u001b[0m \u001b[0;32mNone\u001b[0m\u001b[0;34m:\u001b[0m\u001b[0;34m\u001b[0m\u001b[0m\n\u001b[1;32m    350\u001b[0m         \u001b[0mcls\u001b[0m \u001b[0;34m=\u001b[0m \u001b[0mJSONDecoder\u001b[0m\u001b[0;34m\u001b[0m\u001b[0m\n",
      "\u001b[0;32m/anaconda3/lib/python3.7/json/decoder.py\u001b[0m in \u001b[0;36mdecode\u001b[0;34m(self, s, _w)\u001b[0m\n\u001b[1;32m    335\u001b[0m \u001b[0;34m\u001b[0m\u001b[0m\n\u001b[1;32m    336\u001b[0m         \"\"\"\n\u001b[0;32m--> 337\u001b[0;31m         \u001b[0mobj\u001b[0m\u001b[0;34m,\u001b[0m \u001b[0mend\u001b[0m \u001b[0;34m=\u001b[0m \u001b[0mself\u001b[0m\u001b[0;34m.\u001b[0m\u001b[0mraw_decode\u001b[0m\u001b[0;34m(\u001b[0m\u001b[0ms\u001b[0m\u001b[0;34m,\u001b[0m \u001b[0midx\u001b[0m\u001b[0;34m=\u001b[0m\u001b[0m_w\u001b[0m\u001b[0;34m(\u001b[0m\u001b[0ms\u001b[0m\u001b[0;34m,\u001b[0m \u001b[0;36m0\u001b[0m\u001b[0;34m)\u001b[0m\u001b[0;34m.\u001b[0m\u001b[0mend\u001b[0m\u001b[0;34m(\u001b[0m\u001b[0;34m)\u001b[0m\u001b[0;34m)\u001b[0m\u001b[0;34m\u001b[0m\u001b[0m\n\u001b[0m\u001b[1;32m    338\u001b[0m         \u001b[0mend\u001b[0m \u001b[0;34m=\u001b[0m \u001b[0m_w\u001b[0m\u001b[0;34m(\u001b[0m\u001b[0ms\u001b[0m\u001b[0;34m,\u001b[0m \u001b[0mend\u001b[0m\u001b[0;34m)\u001b[0m\u001b[0;34m.\u001b[0m\u001b[0mend\u001b[0m\u001b[0;34m(\u001b[0m\u001b[0;34m)\u001b[0m\u001b[0;34m\u001b[0m\u001b[0m\n\u001b[1;32m    339\u001b[0m         \u001b[0;32mif\u001b[0m \u001b[0mend\u001b[0m \u001b[0;34m!=\u001b[0m \u001b[0mlen\u001b[0m\u001b[0;34m(\u001b[0m\u001b[0ms\u001b[0m\u001b[0;34m)\u001b[0m\u001b[0;34m:\u001b[0m\u001b[0;34m\u001b[0m\u001b[0m\n",
      "\u001b[0;32m/anaconda3/lib/python3.7/json/decoder.py\u001b[0m in \u001b[0;36mraw_decode\u001b[0;34m(self, s, idx)\u001b[0m\n\u001b[1;32m    353\u001b[0m             \u001b[0mobj\u001b[0m\u001b[0;34m,\u001b[0m \u001b[0mend\u001b[0m \u001b[0;34m=\u001b[0m \u001b[0mself\u001b[0m\u001b[0;34m.\u001b[0m\u001b[0mscan_once\u001b[0m\u001b[0;34m(\u001b[0m\u001b[0ms\u001b[0m\u001b[0;34m,\u001b[0m \u001b[0midx\u001b[0m\u001b[0;34m)\u001b[0m\u001b[0;34m\u001b[0m\u001b[0m\n\u001b[1;32m    354\u001b[0m         \u001b[0;32mexcept\u001b[0m \u001b[0mStopIteration\u001b[0m \u001b[0;32mas\u001b[0m \u001b[0merr\u001b[0m\u001b[0;34m:\u001b[0m\u001b[0;34m\u001b[0m\u001b[0m\n\u001b[0;32m--> 355\u001b[0;31m             \u001b[0;32mraise\u001b[0m \u001b[0mJSONDecodeError\u001b[0m\u001b[0;34m(\u001b[0m\u001b[0;34m\"Expecting value\"\u001b[0m\u001b[0;34m,\u001b[0m \u001b[0ms\u001b[0m\u001b[0;34m,\u001b[0m \u001b[0merr\u001b[0m\u001b[0;34m.\u001b[0m\u001b[0mvalue\u001b[0m\u001b[0;34m)\u001b[0m \u001b[0;32mfrom\u001b[0m \u001b[0;32mNone\u001b[0m\u001b[0;34m\u001b[0m\u001b[0m\n\u001b[0m\u001b[1;32m    356\u001b[0m         \u001b[0;32mreturn\u001b[0m \u001b[0mobj\u001b[0m\u001b[0;34m,\u001b[0m \u001b[0mend\u001b[0m\u001b[0;34m\u001b[0m\u001b[0m\n",
      "\u001b[0;31mJSONDecodeError\u001b[0m: Expecting value: line 1 column 1 (char 0)"
     ]
    }
   ],
   "source": [
    "month_highest_crimes(52.63902,-1.131321,'2017') #I think the function is looking for '2017-MM', solve for this?"
   ]
  },
  {
   "cell_type": "markdown",
   "metadata": {},
   "source": [
    "### Bonus Open Ended Questions\n",
    "\n",
    "1. Take a look at the https://data.police.uk/docs/method/stops-street/ API. Is there a correlation between gender and being stopped and searched? How about race and being stopped and searched?"
   ]
  },
  {
   "cell_type": "code",
   "execution_count": null,
   "metadata": {},
   "outputs": [],
   "source": [
    "\n"
   ]
  }
 ],
 "metadata": {
  "kernelspec": {
   "display_name": "Python 3",
   "language": "python",
   "name": "python3"
  },
  "language_info": {
   "codemirror_mode": {
    "name": "ipython",
    "version": 3
   },
   "file_extension": ".py",
   "mimetype": "text/x-python",
   "name": "python",
   "nbconvert_exporter": "python",
   "pygments_lexer": "ipython3",
   "version": "3.7.0"
  }
 },
 "nbformat": 4,
 "nbformat_minor": 2
}
